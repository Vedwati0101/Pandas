{
 "cells": [
  {
   "cell_type": "markdown",
   "id": "071419fa",
   "metadata": {
    "papermill": {
     "duration": 0.005703,
     "end_time": "2023-02-05T17:58:43.423079",
     "exception": false,
     "start_time": "2023-02-05T17:58:43.417376",
     "status": "completed"
    },
    "tags": []
   },
   "source": [
    "**This notebook is an exercise in the [Pandas](https://www.kaggle.com/learn/pandas) course.  You can reference the tutorial at [this link](https://www.kaggle.com/residentmario/data-types-and-missing-values).**\n",
    "\n",
    "---\n"
   ]
  },
  {
   "cell_type": "markdown",
   "id": "4034855d",
   "metadata": {
    "papermill": {
     "duration": 0.004427,
     "end_time": "2023-02-05T17:58:43.432270",
     "exception": false,
     "start_time": "2023-02-05T17:58:43.427843",
     "status": "completed"
    },
    "tags": []
   },
   "source": [
    "# Introduction\n",
    "\n",
    "Run the following cell to load your data and some utility functions."
   ]
  },
  {
   "cell_type": "code",
   "execution_count": 1,
   "id": "12814b8f",
   "metadata": {
    "execution": {
     "iopub.execute_input": "2023-02-05T17:58:43.443536Z",
     "iopub.status.busy": "2023-02-05T17:58:43.442871Z",
     "iopub.status.idle": "2023-02-05T17:58:46.222341Z",
     "shell.execute_reply": "2023-02-05T17:58:46.221224Z"
    },
    "papermill": {
     "duration": 2.788048,
     "end_time": "2023-02-05T17:58:46.224892",
     "exception": false,
     "start_time": "2023-02-05T17:58:43.436844",
     "status": "completed"
    },
    "tags": []
   },
   "outputs": [
    {
     "name": "stdout",
     "output_type": "stream",
     "text": [
      "Setup complete.\n"
     ]
    }
   ],
   "source": [
    "import pandas as pd\n",
    "\n",
    "reviews = pd.read_csv(\"../input/wine-reviews/winemag-data-130k-v2.csv\", index_col=0)\n",
    "\n",
    "from learntools.core import binder; binder.bind(globals())\n",
    "from learntools.pandas.data_types_and_missing_data import *\n",
    "print(\"Setup complete.\")"
   ]
  },
  {
   "cell_type": "markdown",
   "id": "5aff48d0",
   "metadata": {
    "papermill": {
     "duration": 0.004061,
     "end_time": "2023-02-05T17:58:46.233596",
     "exception": false,
     "start_time": "2023-02-05T17:58:46.229535",
     "status": "completed"
    },
    "tags": []
   },
   "source": [
    "# Exercises"
   ]
  },
  {
   "cell_type": "markdown",
   "id": "7dc92f88",
   "metadata": {
    "papermill": {
     "duration": 0.003949,
     "end_time": "2023-02-05T17:58:46.243556",
     "exception": false,
     "start_time": "2023-02-05T17:58:46.239607",
     "status": "completed"
    },
    "tags": []
   },
   "source": [
    "## 1. \n",
    "What is the data type of the `points` column in the dataset?"
   ]
  },
  {
   "cell_type": "code",
   "execution_count": 2,
   "id": "387b1424",
   "metadata": {
    "execution": {
     "iopub.execute_input": "2023-02-05T17:58:46.253882Z",
     "iopub.status.busy": "2023-02-05T17:58:46.253498Z",
     "iopub.status.idle": "2023-02-05T17:58:46.265242Z",
     "shell.execute_reply": "2023-02-05T17:58:46.264118Z"
    },
    "papermill": {
     "duration": 0.019417,
     "end_time": "2023-02-05T17:58:46.267463",
     "exception": false,
     "start_time": "2023-02-05T17:58:46.248046",
     "status": "completed"
    },
    "tags": []
   },
   "outputs": [
    {
     "data": {
      "application/javascript": [
       "parent.postMessage({\"jupyterEvent\": \"custom.exercise_interaction\", \"data\": {\"outcomeType\": 1, \"valueTowardsCompletion\": 0.25, \"interactionType\": 1, \"questionType\": 1, \"questionId\": \"1_PointsDtype\", \"learnToolsVersion\": \"0.3.4\", \"failureMessage\": \"\", \"exceptionClass\": \"\", \"trace\": \"\"}}, \"*\")"
      ],
      "text/plain": [
       "<IPython.core.display.Javascript object>"
      ]
     },
     "metadata": {},
     "output_type": "display_data"
    },
    {
     "data": {
      "text/markdown": [
       "<span style=\"color:#33cc33\">Correct</span>"
      ],
      "text/plain": [
       "Correct"
      ]
     },
     "metadata": {},
     "output_type": "display_data"
    }
   ],
   "source": [
    "# Your code here\n",
    "dtype = reviews.points.dtype\n",
    "\n",
    "# Check your answer\n",
    "q1.check()"
   ]
  },
  {
   "cell_type": "code",
   "execution_count": 3,
   "id": "637615c5",
   "metadata": {
    "execution": {
     "iopub.execute_input": "2023-02-05T17:58:46.277656Z",
     "iopub.status.busy": "2023-02-05T17:58:46.277301Z",
     "iopub.status.idle": "2023-02-05T17:58:46.285232Z",
     "shell.execute_reply": "2023-02-05T17:58:46.284274Z"
    },
    "papermill": {
     "duration": 0.015449,
     "end_time": "2023-02-05T17:58:46.287391",
     "exception": false,
     "start_time": "2023-02-05T17:58:46.271942",
     "status": "completed"
    },
    "tags": []
   },
   "outputs": [
    {
     "data": {
      "application/javascript": [
       "parent.postMessage({\"jupyterEvent\": \"custom.exercise_interaction\", \"data\": {\"interactionType\": 3, \"questionType\": 1, \"questionId\": \"1_PointsDtype\", \"learnToolsVersion\": \"0.3.4\", \"valueTowardsCompletion\": 0.0, \"failureMessage\": \"\", \"exceptionClass\": \"\", \"trace\": \"\", \"outcomeType\": 4}}, \"*\")"
      ],
      "text/plain": [
       "<IPython.core.display.Javascript object>"
      ]
     },
     "metadata": {},
     "output_type": "display_data"
    },
    {
     "data": {
      "text/markdown": [
       "<span style=\"color:#33cc99\">Solution:</span> \n",
       "```python\n",
       "dtype = reviews.points.dtype\n",
       "```"
      ],
      "text/plain": [
       "Solution: \n",
       "```python\n",
       "dtype = reviews.points.dtype\n",
       "```"
      ]
     },
     "metadata": {},
     "output_type": "display_data"
    }
   ],
   "source": [
    "#q1.hint()\n",
    "q1.solution()"
   ]
  },
  {
   "cell_type": "markdown",
   "id": "38a535cd",
   "metadata": {
    "papermill": {
     "duration": 0.004431,
     "end_time": "2023-02-05T17:58:46.296618",
     "exception": false,
     "start_time": "2023-02-05T17:58:46.292187",
     "status": "completed"
    },
    "tags": []
   },
   "source": [
    "## 2. \n",
    "Create a Series from entries in the `points` column, but convert the entries to strings. Hint: strings are `str` in native Python."
   ]
  },
  {
   "cell_type": "code",
   "execution_count": 4,
   "id": "a519c0ca",
   "metadata": {
    "execution": {
     "iopub.execute_input": "2023-02-05T17:58:46.307894Z",
     "iopub.status.busy": "2023-02-05T17:58:46.307236Z",
     "iopub.status.idle": "2023-02-05T17:58:46.390810Z",
     "shell.execute_reply": "2023-02-05T17:58:46.389690Z"
    },
    "papermill": {
     "duration": 0.0917,
     "end_time": "2023-02-05T17:58:46.393024",
     "exception": false,
     "start_time": "2023-02-05T17:58:46.301324",
     "status": "completed"
    },
    "tags": []
   },
   "outputs": [
    {
     "data": {
      "application/javascript": [
       "parent.postMessage({\"jupyterEvent\": \"custom.exercise_interaction\", \"data\": {\"outcomeType\": 1, \"valueTowardsCompletion\": 0.25, \"interactionType\": 1, \"questionType\": 1, \"questionId\": \"2_StrPoints\", \"learnToolsVersion\": \"0.3.4\", \"failureMessage\": \"\", \"exceptionClass\": \"\", \"trace\": \"\"}}, \"*\")"
      ],
      "text/plain": [
       "<IPython.core.display.Javascript object>"
      ]
     },
     "metadata": {},
     "output_type": "display_data"
    },
    {
     "data": {
      "text/markdown": [
       "<span style=\"color:#33cc33\">Correct</span>"
      ],
      "text/plain": [
       "Correct"
      ]
     },
     "metadata": {},
     "output_type": "display_data"
    }
   ],
   "source": [
    "point_strings = reviews.points.astype(str)\n",
    "\n",
    "# Check your answer\n",
    "q2.check()"
   ]
  },
  {
   "cell_type": "code",
   "execution_count": 5,
   "id": "498b00f6",
   "metadata": {
    "execution": {
     "iopub.execute_input": "2023-02-05T17:58:46.404441Z",
     "iopub.status.busy": "2023-02-05T17:58:46.404047Z",
     "iopub.status.idle": "2023-02-05T17:58:46.411308Z",
     "shell.execute_reply": "2023-02-05T17:58:46.410554Z"
    },
    "papermill": {
     "duration": 0.015006,
     "end_time": "2023-02-05T17:58:46.413223",
     "exception": false,
     "start_time": "2023-02-05T17:58:46.398217",
     "status": "completed"
    },
    "tags": []
   },
   "outputs": [
    {
     "data": {
      "application/javascript": [
       "parent.postMessage({\"jupyterEvent\": \"custom.exercise_interaction\", \"data\": {\"interactionType\": 3, \"questionType\": 1, \"questionId\": \"2_StrPoints\", \"learnToolsVersion\": \"0.3.4\", \"valueTowardsCompletion\": 0.0, \"failureMessage\": \"\", \"exceptionClass\": \"\", \"trace\": \"\", \"outcomeType\": 4}}, \"*\")"
      ],
      "text/plain": [
       "<IPython.core.display.Javascript object>"
      ]
     },
     "metadata": {},
     "output_type": "display_data"
    },
    {
     "data": {
      "text/markdown": [
       "<span style=\"color:#33cc99\">Solution:</span> \n",
       "```python\n",
       "point_strings = reviews.points.astype(str)\n",
       "```"
      ],
      "text/plain": [
       "Solution: \n",
       "```python\n",
       "point_strings = reviews.points.astype(str)\n",
       "```"
      ]
     },
     "metadata": {},
     "output_type": "display_data"
    }
   ],
   "source": [
    "#q2.hint()\n",
    "q2.solution()"
   ]
  },
  {
   "cell_type": "markdown",
   "id": "e0d2a436",
   "metadata": {
    "papermill": {
     "duration": 0.004986,
     "end_time": "2023-02-05T17:58:46.423520",
     "exception": false,
     "start_time": "2023-02-05T17:58:46.418534",
     "status": "completed"
    },
    "tags": []
   },
   "source": [
    "## 3.\n",
    "Sometimes the price column is null. How many reviews in the dataset are missing a price?"
   ]
  },
  {
   "cell_type": "code",
   "execution_count": 6,
   "id": "813c7d9c",
   "metadata": {
    "execution": {
     "iopub.execute_input": "2023-02-05T17:58:46.435951Z",
     "iopub.status.busy": "2023-02-05T17:58:46.434935Z",
     "iopub.status.idle": "2023-02-05T17:58:46.452596Z",
     "shell.execute_reply": "2023-02-05T17:58:46.451607Z"
    },
    "papermill": {
     "duration": 0.026109,
     "end_time": "2023-02-05T17:58:46.454741",
     "exception": false,
     "start_time": "2023-02-05T17:58:46.428632",
     "status": "completed"
    },
    "tags": []
   },
   "outputs": [
    {
     "data": {
      "application/javascript": [
       "parent.postMessage({\"jupyterEvent\": \"custom.exercise_interaction\", \"data\": {\"outcomeType\": 1, \"valueTowardsCompletion\": 0.25, \"interactionType\": 1, \"questionType\": 1, \"questionId\": \"3_CountMissingPrices\", \"learnToolsVersion\": \"0.3.4\", \"failureMessage\": \"\", \"exceptionClass\": \"\", \"trace\": \"\"}}, \"*\")"
      ],
      "text/plain": [
       "<IPython.core.display.Javascript object>"
      ]
     },
     "metadata": {},
     "output_type": "display_data"
    },
    {
     "data": {
      "text/markdown": [
       "<span style=\"color:#33cc33\">Correct</span>"
      ],
      "text/plain": [
       "Correct"
      ]
     },
     "metadata": {},
     "output_type": "display_data"
    }
   ],
   "source": [
    "missing_price_reviews = reviews[reviews.price.isnull()]\n",
    "n_missing_prices = len(missing_price_reviews)\n",
    "# Cute alternative solution: if we sum a boolean series, True is treated as 1 and False as 0\n",
    "n_missing_prices = reviews.price.isnull().sum()\n",
    "# or equivalently:\n",
    "n_missing_prices = pd.isnull(reviews.price).sum()\n",
    "\n",
    "# Check your answer\n",
    "q3.check()"
   ]
  },
  {
   "cell_type": "code",
   "execution_count": 7,
   "id": "00044419",
   "metadata": {
    "execution": {
     "iopub.execute_input": "2023-02-05T17:58:46.467100Z",
     "iopub.status.busy": "2023-02-05T17:58:46.466733Z",
     "iopub.status.idle": "2023-02-05T17:58:46.474838Z",
     "shell.execute_reply": "2023-02-05T17:58:46.473748Z"
    },
    "papermill": {
     "duration": 0.016653,
     "end_time": "2023-02-05T17:58:46.476949",
     "exception": false,
     "start_time": "2023-02-05T17:58:46.460296",
     "status": "completed"
    },
    "tags": []
   },
   "outputs": [
    {
     "data": {
      "application/javascript": [
       "parent.postMessage({\"jupyterEvent\": \"custom.exercise_interaction\", \"data\": {\"interactionType\": 3, \"questionType\": 1, \"questionId\": \"3_CountMissingPrices\", \"learnToolsVersion\": \"0.3.4\", \"valueTowardsCompletion\": 0.0, \"failureMessage\": \"\", \"exceptionClass\": \"\", \"trace\": \"\", \"outcomeType\": 4}}, \"*\")"
      ],
      "text/plain": [
       "<IPython.core.display.Javascript object>"
      ]
     },
     "metadata": {},
     "output_type": "display_data"
    },
    {
     "data": {
      "text/markdown": [
       "<span style=\"color:#33cc99\">Solution:</span> \n",
       "```python\n",
       "missing_price_reviews = reviews[reviews.price.isnull()]\n",
       "n_missing_prices = len(missing_price_reviews)\n",
       "# Cute alternative solution: if we sum a boolean series, True is treated as 1 and False as 0\n",
       "n_missing_prices = reviews.price.isnull().sum()\n",
       "# or equivalently:\n",
       "n_missing_prices = pd.isnull(reviews.price).sum()\n",
       "\n",
       "```"
      ],
      "text/plain": [
       "Solution: \n",
       "```python\n",
       "missing_price_reviews = reviews[reviews.price.isnull()]\n",
       "n_missing_prices = len(missing_price_reviews)\n",
       "# Cute alternative solution: if we sum a boolean series, True is treated as 1 and False as 0\n",
       "n_missing_prices = reviews.price.isnull().sum()\n",
       "# or equivalently:\n",
       "n_missing_prices = pd.isnull(reviews.price).sum()\n",
       "\n",
       "```"
      ]
     },
     "metadata": {},
     "output_type": "display_data"
    }
   ],
   "source": [
    "#q3.hint()\n",
    "q3.solution()"
   ]
  },
  {
   "cell_type": "markdown",
   "id": "087a7a2d",
   "metadata": {
    "papermill": {
     "duration": 0.005534,
     "end_time": "2023-02-05T17:58:46.488210",
     "exception": false,
     "start_time": "2023-02-05T17:58:46.482676",
     "status": "completed"
    },
    "tags": []
   },
   "source": [
    "## 4.\n",
    "What are the most common wine-producing regions? Create a Series counting the number of times each value occurs in the `region_1` field. This field is often missing data, so replace missing values with `Unknown`. Sort in descending order.  Your output should look something like this:\n",
    "\n",
    "```\n",
    "Unknown                    21247\n",
    "Napa Valley                 4480\n",
    "                           ...  \n",
    "Bardolino Superiore            1\n",
    "Primitivo del Tarantino        1\n",
    "Name: region_1, Length: 1230, dtype: int64\n",
    "```"
   ]
  },
  {
   "cell_type": "code",
   "execution_count": 8,
   "id": "8dcf8124",
   "metadata": {
    "execution": {
     "iopub.execute_input": "2023-02-05T17:58:46.501571Z",
     "iopub.status.busy": "2023-02-05T17:58:46.500980Z",
     "iopub.status.idle": "2023-02-05T17:58:46.542549Z",
     "shell.execute_reply": "2023-02-05T17:58:46.541540Z"
    },
    "papermill": {
     "duration": 0.051042,
     "end_time": "2023-02-05T17:58:46.544875",
     "exception": false,
     "start_time": "2023-02-05T17:58:46.493833",
     "status": "completed"
    },
    "tags": []
   },
   "outputs": [
    {
     "data": {
      "application/javascript": [
       "parent.postMessage({\"jupyterEvent\": \"custom.exercise_interaction\", \"data\": {\"outcomeType\": 1, \"valueTowardsCompletion\": 0.25, \"interactionType\": 1, \"questionType\": 2, \"questionId\": \"4_ReviewsPerRegion\", \"learnToolsVersion\": \"0.3.4\", \"failureMessage\": \"\", \"exceptionClass\": \"\", \"trace\": \"\"}}, \"*\")"
      ],
      "text/plain": [
       "<IPython.core.display.Javascript object>"
      ]
     },
     "metadata": {},
     "output_type": "display_data"
    },
    {
     "data": {
      "text/markdown": [
       "<span style=\"color:#33cc33\">Correct</span>"
      ],
      "text/plain": [
       "Correct"
      ]
     },
     "metadata": {},
     "output_type": "display_data"
    }
   ],
   "source": [
    "reviews_per_region = reviews.region_1.fillna('Unknown').value_counts().sort_values(ascending=False)\n",
    "\n",
    "# Check your answer\n",
    "q4.check()"
   ]
  },
  {
   "cell_type": "code",
   "execution_count": 9,
   "id": "2b4d0105",
   "metadata": {
    "execution": {
     "iopub.execute_input": "2023-02-05T17:58:46.558238Z",
     "iopub.status.busy": "2023-02-05T17:58:46.557865Z",
     "iopub.status.idle": "2023-02-05T17:58:46.566081Z",
     "shell.execute_reply": "2023-02-05T17:58:46.565104Z"
    },
    "papermill": {
     "duration": 0.017211,
     "end_time": "2023-02-05T17:58:46.568192",
     "exception": false,
     "start_time": "2023-02-05T17:58:46.550981",
     "status": "completed"
    },
    "tags": []
   },
   "outputs": [
    {
     "data": {
      "application/javascript": [
       "parent.postMessage({\"jupyterEvent\": \"custom.exercise_interaction\", \"data\": {\"interactionType\": 3, \"questionType\": 2, \"questionId\": \"4_ReviewsPerRegion\", \"learnToolsVersion\": \"0.3.4\", \"valueTowardsCompletion\": 0.0, \"failureMessage\": \"\", \"exceptionClass\": \"\", \"trace\": \"\", \"outcomeType\": 4}}, \"*\")"
      ],
      "text/plain": [
       "<IPython.core.display.Javascript object>"
      ]
     },
     "metadata": {},
     "output_type": "display_data"
    },
    {
     "data": {
      "text/markdown": [
       "<span style=\"color:#33cc99\">Solution:</span> \n",
       "```python\n",
       "reviews_per_region = reviews.region_1.fillna('Unknown').value_counts().sort_values(ascending=False)\n",
       "```"
      ],
      "text/plain": [
       "Solution: \n",
       "```python\n",
       "reviews_per_region = reviews.region_1.fillna('Unknown').value_counts().sort_values(ascending=False)\n",
       "```"
      ]
     },
     "metadata": {},
     "output_type": "display_data"
    }
   ],
   "source": [
    "#q4.hint()\n",
    "q4.solution()"
   ]
  },
  {
   "cell_type": "markdown",
   "id": "e324c14e",
   "metadata": {
    "papermill": {
     "duration": 0.005799,
     "end_time": "2023-02-05T17:58:46.580104",
     "exception": false,
     "start_time": "2023-02-05T17:58:46.574305",
     "status": "completed"
    },
    "tags": []
   },
   "source": [
    "# Keep going\n",
    "\n",
    "Move on to **[renaming and combining](https://www.kaggle.com/residentmario/renaming-and-combining)**."
   ]
  },
  {
   "cell_type": "markdown",
   "id": "f22412ec",
   "metadata": {
    "papermill": {
     "duration": 0.006767,
     "end_time": "2023-02-05T17:58:46.592823",
     "exception": false,
     "start_time": "2023-02-05T17:58:46.586056",
     "status": "completed"
    },
    "tags": []
   },
   "source": [
    "---\n",
    "\n",
    "\n",
    "\n",
    "\n",
    "*Have questions or comments? Visit the [course discussion forum](https://www.kaggle.com/learn/pandas/discussion) to chat with other learners.*"
   ]
  }
 ],
 "metadata": {
  "kernelspec": {
   "display_name": "Python 3",
   "language": "python",
   "name": "python3"
  },
  "language_info": {
   "codemirror_mode": {
    "name": "ipython",
    "version": 3
   },
   "file_extension": ".py",
   "mimetype": "text/x-python",
   "name": "python",
   "nbconvert_exporter": "python",
   "pygments_lexer": "ipython3",
   "version": "3.7.12"
  },
  "papermill": {
   "default_parameters": {},
   "duration": 11.877022,
   "end_time": "2023-02-05T17:58:47.220179",
   "environment_variables": {},
   "exception": null,
   "input_path": "__notebook__.ipynb",
   "output_path": "__notebook__.ipynb",
   "parameters": {},
   "start_time": "2023-02-05T17:58:35.343157",
   "version": "2.3.4"
  }
 },
 "nbformat": 4,
 "nbformat_minor": 5
}
