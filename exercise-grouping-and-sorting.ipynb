{
 "cells": [
  {
   "cell_type": "markdown",
   "id": "b567676b",
   "metadata": {
    "papermill": {
     "duration": 0.005662,
     "end_time": "2023-02-05T17:54:05.216339",
     "exception": false,
     "start_time": "2023-02-05T17:54:05.210677",
     "status": "completed"
    },
    "tags": []
   },
   "source": [
    "**This notebook is an exercise in the [Pandas](https://www.kaggle.com/learn/pandas) course.  You can reference the tutorial at [this link](https://www.kaggle.com/residentmario/grouping-and-sorting).**\n",
    "\n",
    "---\n"
   ]
  },
  {
   "cell_type": "markdown",
   "id": "aa0cc9bf",
   "metadata": {
    "papermill": {
     "duration": 0.004371,
     "end_time": "2023-02-05T17:54:05.225533",
     "exception": false,
     "start_time": "2023-02-05T17:54:05.221162",
     "status": "completed"
    },
    "tags": []
   },
   "source": [
    "# Introduction\n",
    "\n",
    "In these exercises we'll apply groupwise analysis to our dataset.\n",
    "\n",
    "Run the code cell below to load the data before running the exercises."
   ]
  },
  {
   "cell_type": "code",
   "execution_count": 1,
   "id": "6ffa2fc1",
   "metadata": {
    "execution": {
     "iopub.execute_input": "2023-02-05T17:54:05.236503Z",
     "iopub.status.busy": "2023-02-05T17:54:05.236130Z",
     "iopub.status.idle": "2023-02-05T17:54:07.580079Z",
     "shell.execute_reply": "2023-02-05T17:54:07.579207Z"
    },
    "papermill": {
     "duration": 2.35216,
     "end_time": "2023-02-05T17:54:07.582354",
     "exception": false,
     "start_time": "2023-02-05T17:54:05.230194",
     "status": "completed"
    },
    "tags": []
   },
   "outputs": [
    {
     "name": "stdout",
     "output_type": "stream",
     "text": [
      "Setup complete.\n"
     ]
    }
   ],
   "source": [
    "import pandas as pd\n",
    "\n",
    "reviews = pd.read_csv(\"../input/wine-reviews/winemag-data-130k-v2.csv\", index_col=0)\n",
    "#pd.set_option(\"display.max_rows\", 5)\n",
    "\n",
    "from learntools.core import binder; binder.bind(globals())\n",
    "from learntools.pandas.grouping_and_sorting import *\n",
    "print(\"Setup complete.\")"
   ]
  },
  {
   "cell_type": "markdown",
   "id": "779502f6",
   "metadata": {
    "papermill": {
     "duration": 0.004436,
     "end_time": "2023-02-05T17:54:07.592351",
     "exception": false,
     "start_time": "2023-02-05T17:54:07.587915",
     "status": "completed"
    },
    "tags": []
   },
   "source": [
    "# Exercises"
   ]
  },
  {
   "cell_type": "markdown",
   "id": "175c87e2",
   "metadata": {
    "papermill": {
     "duration": 0.004426,
     "end_time": "2023-02-05T17:54:07.601425",
     "exception": false,
     "start_time": "2023-02-05T17:54:07.596999",
     "status": "completed"
    },
    "tags": []
   },
   "source": [
    "## 1.\n",
    "Who are the most common wine reviewers in the dataset? Create a `Series` whose index is the `taster_twitter_handle` category from the dataset, and whose values count how many reviews each person wrote."
   ]
  },
  {
   "cell_type": "code",
   "execution_count": 2,
   "id": "5495110a",
   "metadata": {
    "execution": {
     "iopub.execute_input": "2023-02-05T17:54:07.612018Z",
     "iopub.status.busy": "2023-02-05T17:54:07.611677Z",
     "iopub.status.idle": "2023-02-05T17:54:07.629736Z",
     "shell.execute_reply": "2023-02-05T17:54:07.628942Z"
    },
    "papermill": {
     "duration": 0.025626,
     "end_time": "2023-02-05T17:54:07.631670",
     "exception": false,
     "start_time": "2023-02-05T17:54:07.606044",
     "status": "completed"
    },
    "tags": []
   },
   "outputs": [
    {
     "data": {
      "application/javascript": [
       "parent.postMessage({\"jupyterEvent\": \"custom.exercise_interaction\", \"data\": {\"outcomeType\": 1, \"valueTowardsCompletion\": 0.16666666666666666, \"interactionType\": 1, \"questionType\": 1, \"questionId\": \"1_ReviewsWritten\", \"learnToolsVersion\": \"0.3.4\", \"failureMessage\": \"\", \"exceptionClass\": \"\", \"trace\": \"\"}}, \"*\")"
      ],
      "text/plain": [
       "<IPython.core.display.Javascript object>"
      ]
     },
     "metadata": {},
     "output_type": "display_data"
    },
    {
     "data": {
      "text/markdown": [
       "<span style=\"color:#33cc33\">Correct:</span> \n",
       "\n",
       "\n",
       "```python\n",
       "reviews_written = reviews.groupby('taster_twitter_handle').size()\n",
       "```\n",
       "or\n",
       "```python\n",
       "reviews_written = reviews.groupby('taster_twitter_handle').taster_twitter_handle.count()\n",
       "```\n"
      ],
      "text/plain": [
       "Correct: \n",
       "\n",
       "\n",
       "```python\n",
       "reviews_written = reviews.groupby('taster_twitter_handle').size()\n",
       "```\n",
       "or\n",
       "```python\n",
       "reviews_written = reviews.groupby('taster_twitter_handle').taster_twitter_handle.count()\n",
       "```"
      ]
     },
     "metadata": {},
     "output_type": "display_data"
    }
   ],
   "source": [
    "# Your code here\n",
    "reviews_written =  reviews.groupby('taster_twitter_handle').size()\n",
    "\n",
    "# Check your answer\n",
    "q1.check()"
   ]
  },
  {
   "cell_type": "code",
   "execution_count": 3,
   "id": "475d1d9a",
   "metadata": {
    "execution": {
     "iopub.execute_input": "2023-02-05T17:54:07.643049Z",
     "iopub.status.busy": "2023-02-05T17:54:07.642628Z",
     "iopub.status.idle": "2023-02-05T17:54:07.650140Z",
     "shell.execute_reply": "2023-02-05T17:54:07.649577Z"
    },
    "papermill": {
     "duration": 0.014895,
     "end_time": "2023-02-05T17:54:07.651661",
     "exception": false,
     "start_time": "2023-02-05T17:54:07.636766",
     "status": "completed"
    },
    "tags": []
   },
   "outputs": [
    {
     "data": {
      "application/javascript": [
       "parent.postMessage({\"jupyterEvent\": \"custom.exercise_interaction\", \"data\": {\"interactionType\": 2, \"questionType\": 1, \"questionId\": \"1_ReviewsWritten\", \"learnToolsVersion\": \"0.3.4\", \"valueTowardsCompletion\": 0.0, \"failureMessage\": \"\", \"exceptionClass\": \"\", \"trace\": \"\", \"outcomeType\": 4}}, \"*\")"
      ],
      "text/plain": [
       "<IPython.core.display.Javascript object>"
      ]
     },
     "metadata": {},
     "output_type": "display_data"
    },
    {
     "data": {
      "text/markdown": [
       "<span style=\"color:#3366cc\">Hint:</span> Use the `groupby` operation and `size()` (or `count()`)."
      ],
      "text/plain": [
       "Hint: Use the `groupby` operation and `size()` (or `count()`)."
      ]
     },
     "metadata": {},
     "output_type": "display_data"
    },
    {
     "data": {
      "application/javascript": [
       "parent.postMessage({\"jupyterEvent\": \"custom.exercise_interaction\", \"data\": {\"interactionType\": 3, \"questionType\": 1, \"questionId\": \"1_ReviewsWritten\", \"learnToolsVersion\": \"0.3.4\", \"valueTowardsCompletion\": 0.0, \"failureMessage\": \"\", \"exceptionClass\": \"\", \"trace\": \"\", \"outcomeType\": 4}}, \"*\")"
      ],
      "text/plain": [
       "<IPython.core.display.Javascript object>"
      ]
     },
     "metadata": {},
     "output_type": "display_data"
    },
    {
     "data": {
      "text/markdown": [
       "<span style=\"color:#33cc99\">Solution:</span> \n",
       "```python\n",
       "reviews_written = reviews.groupby('taster_twitter_handle').size()\n",
       "```\n",
       "or\n",
       "```python\n",
       "reviews_written = reviews.groupby('taster_twitter_handle').taster_twitter_handle.count()\n",
       "```\n"
      ],
      "text/plain": [
       "Solution: \n",
       "```python\n",
       "reviews_written = reviews.groupby('taster_twitter_handle').size()\n",
       "```\n",
       "or\n",
       "```python\n",
       "reviews_written = reviews.groupby('taster_twitter_handle').taster_twitter_handle.count()\n",
       "```"
      ]
     },
     "metadata": {},
     "output_type": "display_data"
    }
   ],
   "source": [
    "q1.hint()\n",
    "q1.solution()"
   ]
  },
  {
   "cell_type": "markdown",
   "id": "116c3b0e",
   "metadata": {
    "papermill": {
     "duration": 0.005039,
     "end_time": "2023-02-05T17:54:07.661997",
     "exception": false,
     "start_time": "2023-02-05T17:54:07.656958",
     "status": "completed"
    },
    "tags": []
   },
   "source": [
    "## 2.\n",
    "What is the best wine I can buy for a given amount of money? Create a `Series` whose index is wine prices and whose values is the maximum number of points a wine costing that much was given in a review. Sort the values by price, ascending (so that `4.0` dollars is at the top and `3300.0` dollars is at the bottom)."
   ]
  },
  {
   "cell_type": "code",
   "execution_count": 4,
   "id": "e00bc392",
   "metadata": {
    "execution": {
     "iopub.execute_input": "2023-02-05T17:54:07.673818Z",
     "iopub.status.busy": "2023-02-05T17:54:07.673312Z",
     "iopub.status.idle": "2023-02-05T17:54:07.683460Z",
     "shell.execute_reply": "2023-02-05T17:54:07.682689Z"
    },
    "papermill": {
     "duration": 0.017966,
     "end_time": "2023-02-05T17:54:07.685125",
     "exception": false,
     "start_time": "2023-02-05T17:54:07.667159",
     "status": "completed"
    },
    "tags": []
   },
   "outputs": [
    {
     "data": {
      "application/javascript": [
       "parent.postMessage({\"jupyterEvent\": \"custom.exercise_interaction\", \"data\": {\"outcomeType\": 1, \"valueTowardsCompletion\": 0.16666666666666666, \"interactionType\": 1, \"questionType\": 1, \"questionId\": \"2_BestRatingPerPrice\", \"learnToolsVersion\": \"0.3.4\", \"failureMessage\": \"\", \"exceptionClass\": \"\", \"trace\": \"\"}}, \"*\")"
      ],
      "text/plain": [
       "<IPython.core.display.Javascript object>"
      ]
     },
     "metadata": {},
     "output_type": "display_data"
    },
    {
     "data": {
      "text/markdown": [
       "<span style=\"color:#33cc33\">Correct</span>"
      ],
      "text/plain": [
       "Correct"
      ]
     },
     "metadata": {},
     "output_type": "display_data"
    }
   ],
   "source": [
    "best_rating_per_price = reviews.groupby('price')['points'].max().sort_index()\n",
    "\n",
    "# Check your answer\n",
    "q2.check()"
   ]
  },
  {
   "cell_type": "code",
   "execution_count": 5,
   "id": "e2f6ef0f",
   "metadata": {
    "execution": {
     "iopub.execute_input": "2023-02-05T17:54:07.697125Z",
     "iopub.status.busy": "2023-02-05T17:54:07.696852Z",
     "iopub.status.idle": "2023-02-05T17:54:07.703259Z",
     "shell.execute_reply": "2023-02-05T17:54:07.702488Z"
    },
    "papermill": {
     "duration": 0.014111,
     "end_time": "2023-02-05T17:54:07.704846",
     "exception": false,
     "start_time": "2023-02-05T17:54:07.690735",
     "status": "completed"
    },
    "tags": []
   },
   "outputs": [
    {
     "data": {
      "application/javascript": [
       "parent.postMessage({\"jupyterEvent\": \"custom.exercise_interaction\", \"data\": {\"interactionType\": 3, \"questionType\": 1, \"questionId\": \"2_BestRatingPerPrice\", \"learnToolsVersion\": \"0.3.4\", \"valueTowardsCompletion\": 0.0, \"failureMessage\": \"\", \"exceptionClass\": \"\", \"trace\": \"\", \"outcomeType\": 4}}, \"*\")"
      ],
      "text/plain": [
       "<IPython.core.display.Javascript object>"
      ]
     },
     "metadata": {},
     "output_type": "display_data"
    },
    {
     "data": {
      "text/markdown": [
       "<span style=\"color:#33cc99\">Solution:</span> \n",
       "```python\n",
       "best_rating_per_price = reviews.groupby('price')['points'].max().sort_index()\n",
       "```"
      ],
      "text/plain": [
       "Solution: \n",
       "```python\n",
       "best_rating_per_price = reviews.groupby('price')['points'].max().sort_index()\n",
       "```"
      ]
     },
     "metadata": {},
     "output_type": "display_data"
    }
   ],
   "source": [
    "#q2.hint()\n",
    "q2.solution()"
   ]
  },
  {
   "cell_type": "markdown",
   "id": "ceb2a009",
   "metadata": {
    "papermill": {
     "duration": 0.005518,
     "end_time": "2023-02-05T17:54:07.716109",
     "exception": false,
     "start_time": "2023-02-05T17:54:07.710591",
     "status": "completed"
    },
    "tags": []
   },
   "source": [
    "## 3.\n",
    "What are the minimum and maximum prices for each `variety` of wine? Create a `DataFrame` whose index is the `variety` category from the dataset and whose values are the `min` and `max` values thereof."
   ]
  },
  {
   "cell_type": "code",
   "execution_count": 6,
   "id": "8080db7e",
   "metadata": {
    "execution": {
     "iopub.execute_input": "2023-02-05T17:54:07.728493Z",
     "iopub.status.busy": "2023-02-05T17:54:07.728204Z",
     "iopub.status.idle": "2023-02-05T17:54:07.747610Z",
     "shell.execute_reply": "2023-02-05T17:54:07.746924Z"
    },
    "papermill": {
     "duration": 0.027421,
     "end_time": "2023-02-05T17:54:07.749153",
     "exception": false,
     "start_time": "2023-02-05T17:54:07.721732",
     "status": "completed"
    },
    "tags": []
   },
   "outputs": [
    {
     "data": {
      "application/javascript": [
       "parent.postMessage({\"jupyterEvent\": \"custom.exercise_interaction\", \"data\": {\"outcomeType\": 1, \"valueTowardsCompletion\": 0.16666666666666666, \"interactionType\": 1, \"questionType\": 1, \"questionId\": \"3_PriceExtremes\", \"learnToolsVersion\": \"0.3.4\", \"failureMessage\": \"\", \"exceptionClass\": \"\", \"trace\": \"\"}}, \"*\")"
      ],
      "text/plain": [
       "<IPython.core.display.Javascript object>"
      ]
     },
     "metadata": {},
     "output_type": "display_data"
    },
    {
     "data": {
      "text/markdown": [
       "<span style=\"color:#33cc33\">Correct</span>"
      ],
      "text/plain": [
       "Correct"
      ]
     },
     "metadata": {},
     "output_type": "display_data"
    }
   ],
   "source": [
    "price_extremes = reviews.groupby('variety').price.agg([min, max])\n",
    "\n",
    "\n",
    "# Check your answer\n",
    "q3.check()"
   ]
  },
  {
   "cell_type": "code",
   "execution_count": 7,
   "id": "3209ace3",
   "metadata": {
    "execution": {
     "iopub.execute_input": "2023-02-05T17:54:07.763239Z",
     "iopub.status.busy": "2023-02-05T17:54:07.762718Z",
     "iopub.status.idle": "2023-02-05T17:54:07.768119Z",
     "shell.execute_reply": "2023-02-05T17:54:07.767577Z"
    },
    "papermill": {
     "duration": 0.014339,
     "end_time": "2023-02-05T17:54:07.769523",
     "exception": false,
     "start_time": "2023-02-05T17:54:07.755184",
     "status": "completed"
    },
    "tags": []
   },
   "outputs": [
    {
     "data": {
      "application/javascript": [
       "parent.postMessage({\"jupyterEvent\": \"custom.exercise_interaction\", \"data\": {\"interactionType\": 3, \"questionType\": 1, \"questionId\": \"3_PriceExtremes\", \"learnToolsVersion\": \"0.3.4\", \"valueTowardsCompletion\": 0.0, \"failureMessage\": \"\", \"exceptionClass\": \"\", \"trace\": \"\", \"outcomeType\": 4}}, \"*\")"
      ],
      "text/plain": [
       "<IPython.core.display.Javascript object>"
      ]
     },
     "metadata": {},
     "output_type": "display_data"
    },
    {
     "data": {
      "text/markdown": [
       "<span style=\"color:#33cc99\">Solution:</span> \n",
       "```python\n",
       "price_extremes = reviews.groupby('variety').price.agg([min, max])\n",
       "```"
      ],
      "text/plain": [
       "Solution: \n",
       "```python\n",
       "price_extremes = reviews.groupby('variety').price.agg([min, max])\n",
       "```"
      ]
     },
     "metadata": {},
     "output_type": "display_data"
    }
   ],
   "source": [
    "#q3.hint()\n",
    "q3.solution()"
   ]
  },
  {
   "cell_type": "markdown",
   "id": "2afa4756",
   "metadata": {
    "papermill": {
     "duration": 0.005808,
     "end_time": "2023-02-05T17:54:07.781409",
     "exception": false,
     "start_time": "2023-02-05T17:54:07.775601",
     "status": "completed"
    },
    "tags": []
   },
   "source": [
    "## 4.\n",
    "What are the most expensive wine varieties? Create a variable `sorted_varieties` containing a copy of the dataframe from the previous question where varieties are sorted in descending order based on minimum price, then on maximum price (to break ties)."
   ]
  },
  {
   "cell_type": "code",
   "execution_count": 8,
   "id": "4b6251b8",
   "metadata": {
    "execution": {
     "iopub.execute_input": "2023-02-05T17:54:07.795342Z",
     "iopub.status.busy": "2023-02-05T17:54:07.794798Z",
     "iopub.status.idle": "2023-02-05T17:54:07.803726Z",
     "shell.execute_reply": "2023-02-05T17:54:07.802893Z"
    },
    "papermill": {
     "duration": 0.017878,
     "end_time": "2023-02-05T17:54:07.805280",
     "exception": false,
     "start_time": "2023-02-05T17:54:07.787402",
     "status": "completed"
    },
    "tags": []
   },
   "outputs": [
    {
     "data": {
      "application/javascript": [
       "parent.postMessage({\"jupyterEvent\": \"custom.exercise_interaction\", \"data\": {\"outcomeType\": 1, \"valueTowardsCompletion\": 0.16666666666666666, \"interactionType\": 1, \"questionType\": 1, \"questionId\": \"4_SortedVarieties\", \"learnToolsVersion\": \"0.3.4\", \"failureMessage\": \"\", \"exceptionClass\": \"\", \"trace\": \"\"}}, \"*\")"
      ],
      "text/plain": [
       "<IPython.core.display.Javascript object>"
      ]
     },
     "metadata": {},
     "output_type": "display_data"
    },
    {
     "data": {
      "text/markdown": [
       "<span style=\"color:#33cc33\">Correct</span>"
      ],
      "text/plain": [
       "Correct"
      ]
     },
     "metadata": {},
     "output_type": "display_data"
    }
   ],
   "source": [
    "sorted_varieties = price_extremes.sort_values(by=['min', 'max'], ascending=False)\n",
    "\n",
    "# Check your answer\n",
    "q4.check()"
   ]
  },
  {
   "cell_type": "code",
   "execution_count": 9,
   "id": "8204bb16",
   "metadata": {
    "execution": {
     "iopub.execute_input": "2023-02-05T17:54:07.819080Z",
     "iopub.status.busy": "2023-02-05T17:54:07.818775Z",
     "iopub.status.idle": "2023-02-05T17:54:07.824623Z",
     "shell.execute_reply": "2023-02-05T17:54:07.823824Z"
    },
    "papermill": {
     "duration": 0.014638,
     "end_time": "2023-02-05T17:54:07.826151",
     "exception": false,
     "start_time": "2023-02-05T17:54:07.811513",
     "status": "completed"
    },
    "tags": []
   },
   "outputs": [
    {
     "data": {
      "application/javascript": [
       "parent.postMessage({\"jupyterEvent\": \"custom.exercise_interaction\", \"data\": {\"interactionType\": 3, \"questionType\": 1, \"questionId\": \"4_SortedVarieties\", \"learnToolsVersion\": \"0.3.4\", \"valueTowardsCompletion\": 0.0, \"failureMessage\": \"\", \"exceptionClass\": \"\", \"trace\": \"\", \"outcomeType\": 4}}, \"*\")"
      ],
      "text/plain": [
       "<IPython.core.display.Javascript object>"
      ]
     },
     "metadata": {},
     "output_type": "display_data"
    },
    {
     "data": {
      "text/markdown": [
       "<span style=\"color:#33cc99\">Solution:</span> \n",
       "```python\n",
       "sorted_varieties = price_extremes.sort_values(by=['min', 'max'], ascending=False)\n",
       "```"
      ],
      "text/plain": [
       "Solution: \n",
       "```python\n",
       "sorted_varieties = price_extremes.sort_values(by=['min', 'max'], ascending=False)\n",
       "```"
      ]
     },
     "metadata": {},
     "output_type": "display_data"
    }
   ],
   "source": [
    "#q4.hint()\n",
    "q4.solution()"
   ]
  },
  {
   "cell_type": "markdown",
   "id": "e61c43ab",
   "metadata": {
    "papermill": {
     "duration": 0.006858,
     "end_time": "2023-02-05T17:54:07.839517",
     "exception": false,
     "start_time": "2023-02-05T17:54:07.832659",
     "status": "completed"
    },
    "tags": []
   },
   "source": [
    "## 5.\n",
    "Create a `Series` whose index is reviewers and whose values is the average review score given out by that reviewer. Hint: you will need the `taster_name` and `points` columns."
   ]
  },
  {
   "cell_type": "code",
   "execution_count": 10,
   "id": "c0fcf580",
   "metadata": {
    "execution": {
     "iopub.execute_input": "2023-02-05T17:54:07.854511Z",
     "iopub.status.busy": "2023-02-05T17:54:07.853668Z",
     "iopub.status.idle": "2023-02-05T17:54:07.871629Z",
     "shell.execute_reply": "2023-02-05T17:54:07.870570Z"
    },
    "papermill": {
     "duration": 0.028056,
     "end_time": "2023-02-05T17:54:07.874150",
     "exception": false,
     "start_time": "2023-02-05T17:54:07.846094",
     "status": "completed"
    },
    "tags": []
   },
   "outputs": [
    {
     "data": {
      "application/javascript": [
       "parent.postMessage({\"jupyterEvent\": \"custom.exercise_interaction\", \"data\": {\"outcomeType\": 1, \"valueTowardsCompletion\": 0.16666666666666666, \"interactionType\": 1, \"questionType\": 1, \"questionId\": \"5_ReviewerMeanRatings\", \"learnToolsVersion\": \"0.3.4\", \"failureMessage\": \"\", \"exceptionClass\": \"\", \"trace\": \"\"}}, \"*\")"
      ],
      "text/plain": [
       "<IPython.core.display.Javascript object>"
      ]
     },
     "metadata": {},
     "output_type": "display_data"
    },
    {
     "data": {
      "text/markdown": [
       "<span style=\"color:#33cc33\">Correct</span>"
      ],
      "text/plain": [
       "Correct"
      ]
     },
     "metadata": {},
     "output_type": "display_data"
    }
   ],
   "source": [
    "reviewer_mean_ratings = reviews.groupby('taster_name').points.mean()\n",
    "\n",
    "# Check your answer\n",
    "q5.check()"
   ]
  },
  {
   "cell_type": "code",
   "execution_count": 11,
   "id": "141a7bfa",
   "metadata": {
    "execution": {
     "iopub.execute_input": "2023-02-05T17:54:07.890077Z",
     "iopub.status.busy": "2023-02-05T17:54:07.889115Z",
     "iopub.status.idle": "2023-02-05T17:54:07.896582Z",
     "shell.execute_reply": "2023-02-05T17:54:07.895647Z"
    },
    "papermill": {
     "duration": 0.01688,
     "end_time": "2023-02-05T17:54:07.898246",
     "exception": false,
     "start_time": "2023-02-05T17:54:07.881366",
     "status": "completed"
    },
    "tags": []
   },
   "outputs": [
    {
     "data": {
      "application/javascript": [
       "parent.postMessage({\"jupyterEvent\": \"custom.exercise_interaction\", \"data\": {\"interactionType\": 3, \"questionType\": 1, \"questionId\": \"5_ReviewerMeanRatings\", \"learnToolsVersion\": \"0.3.4\", \"valueTowardsCompletion\": 0.0, \"failureMessage\": \"\", \"exceptionClass\": \"\", \"trace\": \"\", \"outcomeType\": 4}}, \"*\")"
      ],
      "text/plain": [
       "<IPython.core.display.Javascript object>"
      ]
     },
     "metadata": {},
     "output_type": "display_data"
    },
    {
     "data": {
      "text/markdown": [
       "<span style=\"color:#33cc99\">Solution:</span> \n",
       "```python\n",
       "reviewer_mean_ratings = reviews.groupby('taster_name').points.mean()\n",
       "```"
      ],
      "text/plain": [
       "Solution: \n",
       "```python\n",
       "reviewer_mean_ratings = reviews.groupby('taster_name').points.mean()\n",
       "```"
      ]
     },
     "metadata": {},
     "output_type": "display_data"
    }
   ],
   "source": [
    "#q5.hint()\n",
    "q5.solution()"
   ]
  },
  {
   "cell_type": "markdown",
   "id": "e66085ce",
   "metadata": {
    "papermill": {
     "duration": 0.006601,
     "end_time": "2023-02-05T17:54:07.912194",
     "exception": false,
     "start_time": "2023-02-05T17:54:07.905593",
     "status": "completed"
    },
    "tags": []
   },
   "source": [
    "Are there significant differences in the average scores assigned by the various reviewers? Run the cell below to use the `describe()` method to see a summary of the range of values."
   ]
  },
  {
   "cell_type": "code",
   "execution_count": 12,
   "id": "83cc8b9a",
   "metadata": {
    "execution": {
     "iopub.execute_input": "2023-02-05T17:54:07.927385Z",
     "iopub.status.busy": "2023-02-05T17:54:07.926877Z",
     "iopub.status.idle": "2023-02-05T17:54:07.936979Z",
     "shell.execute_reply": "2023-02-05T17:54:07.936262Z"
    },
    "papermill": {
     "duration": 0.019521,
     "end_time": "2023-02-05T17:54:07.938516",
     "exception": false,
     "start_time": "2023-02-05T17:54:07.918995",
     "status": "completed"
    },
    "tags": []
   },
   "outputs": [
    {
     "data": {
      "text/plain": [
       "count    19.000000\n",
       "mean     88.233026\n",
       "std       1.243610\n",
       "min      85.855422\n",
       "25%      87.323501\n",
       "50%      88.536235\n",
       "75%      88.975256\n",
       "max      90.562551\n",
       "Name: points, dtype: float64"
      ]
     },
     "execution_count": 12,
     "metadata": {},
     "output_type": "execute_result"
    }
   ],
   "source": [
    "reviewer_mean_ratings.describe()"
   ]
  },
  {
   "cell_type": "markdown",
   "id": "c4c4bcb2",
   "metadata": {
    "papermill": {
     "duration": 0.006901,
     "end_time": "2023-02-05T17:54:07.952424",
     "exception": false,
     "start_time": "2023-02-05T17:54:07.945523",
     "status": "completed"
    },
    "tags": []
   },
   "source": [
    "## 6.\n",
    "What combination of countries and varieties are most common? Create a `Series` whose index is a `MultiIndex`of `{country, variety}` pairs. For example, a pinot noir produced in the US should map to `{\"US\", \"Pinot Noir\"}`. Sort the values in the `Series` in descending order based on wine count."
   ]
  },
  {
   "cell_type": "code",
   "execution_count": 13,
   "id": "997a17b6",
   "metadata": {
    "execution": {
     "iopub.execute_input": "2023-02-05T17:54:07.968136Z",
     "iopub.status.busy": "2023-02-05T17:54:07.967577Z",
     "iopub.status.idle": "2023-02-05T17:54:07.973573Z",
     "shell.execute_reply": "2023-02-05T17:54:07.972824Z"
    },
    "papermill": {
     "duration": 0.01573,
     "end_time": "2023-02-05T17:54:07.975178",
     "exception": false,
     "start_time": "2023-02-05T17:54:07.959448",
     "status": "completed"
    },
    "tags": []
   },
   "outputs": [
    {
     "data": {
      "application/javascript": [
       "parent.postMessage({\"jupyterEvent\": \"custom.exercise_interaction\", \"data\": {\"outcomeType\": 4, \"interactionType\": 1, \"questionType\": 1, \"questionId\": \"6_GroupbyCountryVariety\", \"learnToolsVersion\": \"0.3.4\", \"valueTowardsCompletion\": 0.0, \"failureMessage\": \"\", \"exceptionClass\": \"\", \"trace\": \"\"}}, \"*\")"
      ],
      "text/plain": [
       "<IPython.core.display.Javascript object>"
      ]
     },
     "metadata": {},
     "output_type": "display_data"
    },
    {
     "data": {
      "text/markdown": [
       "<span style=\"color:#ccaa33\">Check:</span> When you've updated the starter code, `check()` will tell you whether your code is correct. You need to update the code that creates variable `country_variety_counts`"
      ],
      "text/plain": [
       "Check: When you've updated the starter code, `check()` will tell you whether your code is correct. You need to update the code that creates variable `country_variety_counts`"
      ]
     },
     "metadata": {},
     "output_type": "display_data"
    }
   ],
   "source": [
    "country_variety_counts = ____\n",
    "\n",
    "# Check your answer\n",
    "q6.check()"
   ]
  },
  {
   "cell_type": "code",
   "execution_count": 14,
   "id": "921d4f7e",
   "metadata": {
    "execution": {
     "iopub.execute_input": "2023-02-05T17:54:07.992315Z",
     "iopub.status.busy": "2023-02-05T17:54:07.991933Z",
     "iopub.status.idle": "2023-02-05T17:54:07.995651Z",
     "shell.execute_reply": "2023-02-05T17:54:07.994854Z"
    },
    "papermill": {
     "duration": 0.013926,
     "end_time": "2023-02-05T17:54:07.997189",
     "exception": false,
     "start_time": "2023-02-05T17:54:07.983263",
     "status": "completed"
    },
    "tags": []
   },
   "outputs": [],
   "source": [
    "#q6.hint()\n",
    "#q6.solution()"
   ]
  },
  {
   "cell_type": "markdown",
   "id": "b9e3cb14",
   "metadata": {
    "papermill": {
     "duration": 0.007004,
     "end_time": "2023-02-05T17:54:08.011489",
     "exception": false,
     "start_time": "2023-02-05T17:54:08.004485",
     "status": "completed"
    },
    "tags": []
   },
   "source": [
    "# Keep going\n",
    "\n",
    "Move on to the [**data types and missing data**](https://www.kaggle.com/residentmario/data-types-and-missing-values)."
   ]
  },
  {
   "cell_type": "markdown",
   "id": "d1d6a259",
   "metadata": {
    "papermill": {
     "duration": 0.006975,
     "end_time": "2023-02-05T17:54:08.025742",
     "exception": false,
     "start_time": "2023-02-05T17:54:08.018767",
     "status": "completed"
    },
    "tags": []
   },
   "source": [
    "---\n",
    "\n",
    "\n",
    "\n",
    "\n",
    "*Have questions or comments? Visit the [course discussion forum](https://www.kaggle.com/learn/pandas/discussion) to chat with other learners.*"
   ]
  }
 ],
 "metadata": {
  "kernelspec": {
   "display_name": "Python 3",
   "language": "python",
   "name": "python3"
  },
  "language_info": {
   "codemirror_mode": {
    "name": "ipython",
    "version": 3
   },
   "file_extension": ".py",
   "mimetype": "text/x-python",
   "name": "python",
   "nbconvert_exporter": "python",
   "pygments_lexer": "ipython3",
   "version": "3.7.12"
  },
  "papermill": {
   "default_parameters": {},
   "duration": 9.734687,
   "end_time": "2023-02-05T17:54:08.551474",
   "environment_variables": {},
   "exception": null,
   "input_path": "__notebook__.ipynb",
   "output_path": "__notebook__.ipynb",
   "parameters": {},
   "start_time": "2023-02-05T17:53:58.816787",
   "version": "2.3.4"
  }
 },
 "nbformat": 4,
 "nbformat_minor": 5
}
